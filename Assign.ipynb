{
  "nbformat": 4,
  "nbformat_minor": 0,
  "metadata": {
    "colab": {
      "name": "Untitled0.ipynb",
      "provenance": [],
      "authorship_tag": "ABX9TyPcJi/4uEJIU9qjYhncsNql"
    },
    "kernelspec": {
      "name": "python3",
      "display_name": "Python 3"
    }
  },
  "cells": [
    {
      "cell_type": "code",
      "metadata": {
        "id": "1raK9dN6lYKq",
        "colab": {
          "base_uri": "https://localhost:8080/"
        },
        "outputId": "de1c2b66-289f-46cf-a27f-73bbb0664297"
      },
      "source": [
        "a=int(input(\"enter a number\"))\n",
        "b=int(input(\"enter second number\"))\n",
        "largest=0\n",
        "if a > b:\n",
        "  largest = a\n",
        "else :\n",
        "  largest = b\n",
        "print(\"largest number is: \",  largest)"
      ],
      "execution_count": 11,
      "outputs": [
        {
          "output_type": "stream",
          "text": [
            "enter a number5\n",
            "enter second number9\n",
            "largest number is:  9\n"
          ],
          "name": "stdout"
        }
      ]
    },
    {
      "cell_type": "code",
      "metadata": {
        "colab": {
          "base_uri": "https://localhost:8080/"
        },
        "id": "RlB3LML9ckMJ",
        "outputId": "61dcf695-32d1-49b8-d8d1-0eab612fb733"
      },
      "source": [
        "name_entered = str(input(\"enter a name to check: \")).strip()\n",
        "valid_name = \"Gökhan\"\n",
        "\n",
        "if name_entered == valid_name :\n",
        "    print(\"Hello, {}! The password is : Kartal55 \".format(valid_name))\n",
        "else :\n",
        "    print(\"Hello, {}! See you later! \".format(name_entered))"
      ],
      "execution_count": 6,
      "outputs": [
        {
          "output_type": "stream",
          "text": [
            "enter a name to check: ali\n",
            "Hello, ali! See you later! \n"
          ],
          "name": "stdout"
        }
      ]
    }
  ]
}