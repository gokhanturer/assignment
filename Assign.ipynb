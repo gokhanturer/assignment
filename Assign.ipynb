{
  "nbformat": 4,
  "nbformat_minor": 0,
  "metadata": {
    "colab": {
      "name": "Untitled0.ipynb",
      "provenance": [],
      "authorship_tag": "ABX9TyMHo6LZF9bR46WnLyD+Npmt",
      "include_colab_link": true
    },
    "kernelspec": {
      "name": "python3",
      "display_name": "Python 3"
    }
  },
  "cells": [
    {
      "cell_type": "markdown",
      "metadata": {
        "id": "view-in-github",
        "colab_type": "text"
      },
      "source": [
        "<a href=\"https://colab.research.google.com/github/gokhanturer/assignment/blob/main/Assign.ipynb\" target=\"_parent\"><img src=\"https://colab.research.google.com/assets/colab-badge.svg\" alt=\"Open In Colab\"/></a>"
      ]
    },
    {
      "cell_type": "code",
      "metadata": {
        "id": "RlB3LML9ckMJ"
      },
      "source": [
        "name_entered = str(input(\"enter a name to check: \")).strip()\n",
        "valid_name = \"Gökhan\"\n",
        "\n",
        "if name_entered == valid_name :\n",
        "    print(\"Hello, {}! The password is : Kartal55 \".format(valid_name))\n",
        "else :\n",
        "    print(\"Hello, {}! See you later! \".format(name_entered))"
      ],
      "execution_count": null,
      "outputs": []
    }
  ]
}