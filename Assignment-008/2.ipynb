{
  "nbformat": 4,
  "nbformat_minor": 0,
  "metadata": {
    "colab": {
      "name": "Untitled0.ipynb",
      "provenance": [],
      "collapsed_sections": [],
      "mount_file_id": "1h3NdnpbIsBJGPamtINNe26pheIrtQ4LW",
      "authorship_tag": "ABX9TyNkz2+SyEkCdFglNpd93tZY",
      "include_colab_link": true
    },
    "kernelspec": {
      "name": "python3",
      "display_name": "Python 3"
    }
  },
  "cells": [
    {
      "cell_type": "markdown",
      "metadata": {
        "id": "view-in-github",
        "colab_type": "text"
      },
      "source": [
        "<a href=\"https://colab.research.google.com/github/gokhanturer/assignment/blob/main/Assignment-008/2.ipynb\" target=\"_parent\"><img src=\"https://colab.research.google.com/assets/colab-badge.svg\" alt=\"Open In Colab\"/></a>"
      ]
    },
    {
      "cell_type": "code",
      "metadata": {
        "id": "WPdQjbYMVxSg"
      },
      "source": [
        "age = input('Are you a cigarette addict older than 75 years old?, answer \"True\" or \"False: \"' )\n",
        "\n",
        "chronic = input('Do you have a severe chronic disease?, answer \"True\" or \"False: \"' )\n",
        "\n",
        "immune = input('Is your immune system too weak?, answer \"True\" or \"False: \"' )\n",
        "\n",
        "if not age and chronic and immune :\n",
        "  print(\"You are not in risky group:\")\n",
        "else:\n",
        "  print(\"You are in risky group\")\n"
      ],
      "execution_count": null,
      "outputs": []
    }
  ]
}