{
  "nbformat": 4,
  "nbformat_minor": 0,
  "metadata": {
    "colab": {
      "name": "Untitled0.ipynb",
      "provenance": [],
      "authorship_tag": "ABX9TyMuFrGkhRL5t5nj63mXMUYg",
      "include_colab_link": true
    },
    "kernelspec": {
      "name": "python3",
      "display_name": "Python 3"
    }
  },
  "cells": [
    {
      "cell_type": "markdown",
      "metadata": {
        "id": "view-in-github",
        "colab_type": "text"
      },
      "source": [
        "<a href=\"https://colab.research.google.com/github/gokhanturer/assignment/blob/main/arguments.ipynb\" target=\"_parent\"><img src=\"https://colab.research.google.com/assets/colab-badge.svg\" alt=\"Open In Colab\"/></a>"
      ]
    },
    {
      "cell_type": "code",
      "metadata": {
        "id": "FZxIdeRqaOOk"
      },
      "source": [
        "# Soru 1 cevap c\n",
        "fruits = {\"Apples\": 5, \"Oranges\": 3, \"Bananas\": 4}\n",
        "fruit_names = [x for x in fruits.keys()]\n",
        "fruit_names\n",
        "# Soru 1 cevap c\n",
        "fruits = {\"Apples\": 5, \"Oranges\": 3, \"Bananas\": 4}\n",
        "fruit_names = [x for x in fruits.keys()]\n",
        "fruit_names\n",
        "​\n",
        "['Apples', 'Oranges', 'Bananas']"
      ],
      "execution_count": null,
      "outputs": []
    },
    {
      "cell_type": "code",
      "metadata": {
        "id": "1raK9dN6lYKq",
        "colab": {
          "base_uri": "https://localhost:8080/"
        },
        "outputId": "3fbfadf6-e43d-4070-8067-93b0680e0870"
      },
      "source": [
        "#soru 3 cevap B\n",
        "i= 5\n",
        "while True:\n",
        "  if i%0O11 == 0: #Explanation: 0O11 is an octal number.0o11 is equal to 1⋅8¹ + 1⋅8⁰ = 9\n",
        "    break\n",
        "  print(i) \n",
        "  i += 1\n"
      ],
      "execution_count": 2,
      "outputs": [
        {
          "output_type": "stream",
          "text": [
            "5\n",
            "6\n",
            "7\n",
            "8\n"
          ],
          "name": "stdout"
        }
      ]
    },
    {
      "cell_type": "code",
      "metadata": {
        "colab": {
          "base_uri": "https://localhost:8080/"
        },
        "id": "RY_UmdilaKjQ",
        "outputId": "83f25160-ee6c-44d8-8d24-1d4ff553146e"
      },
      "source": [
        "#Soru 4 Cevap: C Error  This message is telling us that we are treating an integer, which is a whole number, like a subscriptable object. Integers are not subscriptable objects. Only objects that contain other objects, like strings, lists, tuples, and dictionaries, are subscriptable.\n",
        "x = \"abcd\"\n",
        "for i in range(len(x)):\n",
        "  x[i].upper() \n",
        "print(x)\n",
        "\n"
      ],
      "execution_count": 4,
      "outputs": [
        {
          "output_type": "stream",
          "text": [
            "abcd\n"
          ],
          "name": "stdout"
        }
      ]
    },
    {
      "cell_type": "code",
      "metadata": {
        "colab": {
          "base_uri": "https://localhost:8080/"
        },
        "id": "ks-bW1iSeBg1",
        "outputId": "68802c68-39fd-4628-830a-352b21c8dfb4"
      },
      "source": [
        "x = \"abcd\"\n",
        "a=len(x)\n",
        "a"
      ],
      "execution_count": 15,
      "outputs": [
        {
          "output_type": "execute_result",
          "data": {
            "text/plain": [
              "4"
            ]
          },
          "metadata": {
            "tags": []
          },
          "execution_count": 15
        }
      ]
    },
    {
      "cell_type": "code",
      "metadata": {
        "colab": {
          "base_uri": "https://localhost:8080/"
        },
        "id": "B3UzTQCleM_O",
        "outputId": "72dadbe4-21ff-4a42-8473-336a343a6249"
      },
      "source": [
        "b=range(len(x))\n",
        "b"
      ],
      "execution_count": 16,
      "outputs": [
        {
          "output_type": "execute_result",
          "data": {
            "text/plain": [
              "range(0, 4)"
            ]
          },
          "metadata": {
            "tags": []
          },
          "execution_count": 16
        }
      ]
    },
    {
      "cell_type": "code",
      "metadata": {
        "colab": {
          "base_uri": "https://localhost:8080/"
        },
        "id": "aG8UhdjBfO_U",
        "outputId": "ce2940a4-090f-4046-cc82-2fc61889b47a"
      },
      "source": [
        "#Soru 5 cevap: D\n",
        "k=[2,3,4]\n",
        "print(*reversed(k))\n",
        "\n",
        "## for string\n",
        "seq_string = 'Python'\n",
        "print(list(reversed(seq_string)))\n",
        "\n",
        "# for tuple\n",
        "seq_tuple = ('P', 'y', 't', 'h', 'o', 'n')\n",
        "print(list(reversed(seq_tuple)))\n",
        "\n",
        "# for range\n",
        "seq_range = range(5, 9)\n",
        "print(list(reversed(seq_range)))\n",
        "\n",
        "# for list\n",
        "seq_list = [1, 2, 4, 3, 5]\n",
        "print(list(reversed(seq_list)))\n",
        "\n",
        "\n"
      ],
      "execution_count": 24,
      "outputs": [
        {
          "output_type": "stream",
          "text": [
            "4 3 2\n"
          ],
          "name": "stdout"
        }
      ]
    },
    {
      "cell_type": "code",
      "metadata": {
        "colab": {
          "base_uri": "https://localhost:8080/"
        },
        "id": "xnDJMElKg8WY",
        "outputId": "fbfc58c5-7f5d-43d7-ff6a-c42a74e388b0"
      },
      "source": [
        "list(reversed(k))"
      ],
      "execution_count": 25,
      "outputs": [
        {
          "output_type": "execute_result",
          "data": {
            "text/plain": [
              "[4, 3, 2]"
            ]
          },
          "metadata": {
            "tags": []
          },
          "execution_count": 25
        }
      ]
    },
    {
      "cell_type": "code",
      "metadata": {
        "colab": {
          "base_uri": "https://localhost:8080/"
        },
        "id": "3kvw7gYv-eMU",
        "outputId": "92e17cc6-866f-4cab-82f6-e7ebb164af8c"
      },
      "source": [
        "def calculator(a, b, opr) :\n",
        "    if opr == '+' :\n",
        "        return(a + b)\n",
        "    elif opr == '-' :\n",
        "        return(a - b)\n",
        "    elif opr == '*' :\n",
        "        return(a * b)\n",
        "    elif opr == '/' :\n",
        "        return(a / b)\n",
        "    else :\n",
        "        return('Only 4 math operations')\n",
        "a = int(input(\"please enter a number\"))\n",
        "opr = str(input(\"please enter math operation\"))\n",
        "b = int(input(\"please enter a number\"))\n",
        "print(calculator(a, b, opr))"
      ],
      "execution_count": 1,
      "outputs": [
        {
          "output_type": "stream",
          "text": [
            "please enter a number43\n",
            "please enter math operation*\n",
            "please enter a number435\n",
            "18705\n"
          ],
          "name": "stdout"
        }
      ]
    },
    {
      "cell_type": "code",
      "metadata": {
        "id": "liOCgOgk_woT"
      },
      "source": [
        "def absolute_value(x):\n",
        "    if  x > 0:\n",
        "        return x\n",
        "    else:\n",
        "        return x*(-1)"
      ],
      "execution_count": null,
      "outputs": []
    },
    {
      "cell_type": "code",
      "metadata": {
        "colab": {
          "base_uri": "https://localhost:8080/"
        },
        "id": "M_lBro_xCsMH",
        "outputId": "d3895c4c-1ed6-44b2-9268-e82aae25d75e"
      },
      "source": [
        "print(abs.__doc__)"
      ],
      "execution_count": 2,
      "outputs": [
        {
          "output_type": "stream",
          "text": [
            "Return the absolute value of the argument.\n"
          ],
          "name": "stdout"
        }
      ]
    },
    {
      "cell_type": "code",
      "metadata": {
        "colab": {
          "base_uri": "https://localhost:8080/"
        },
        "id": "_N1JYHPFGBWd",
        "outputId": "1df5d1e1-fe65-4246-d66b-887a2df1038f"
      },
      "source": [
        "\n",
        "def pos_args(a, b):\n",
        "    print(a, 'is the first argument')\n",
        "    print(b, 'is the second argument')\n",
        "pos_args(3,4)\n",
        "print()\n",
        "pos_args(4,3)\n"
      ],
      "execution_count": 3,
      "outputs": [
        {
          "output_type": "stream",
          "text": [
            "3 is the first argument\n",
            "4 is the second argument\n",
            "\n",
            "4 is the first argument\n",
            "3 is the second argument\n"
          ],
          "name": "stdout"
        }
      ]
    },
    {
      "cell_type": "code",
      "metadata": {
        "colab": {
          "base_uri": "https://localhost:8080/"
        },
        "id": "bAeCqzHSGucB",
        "outputId": "6aa2d215-0386-45b0-d638-acfb614d0b56"
      },
      "source": [
        "a = \"I\"\n",
        "b = \"Love\"\n",
        "c = \"You\"\n",
        "def texter(c,a,b):\n",
        "  print(f\"{a}{b}{c}\")\n",
        "texter(c,a,b)\n",
        "\n",
        "def texter(x, y, z):\n",
        "    print(f\"{y} {z} {x}\")\n",
        "texter(\"you\", \"i\", \"love\")"
      ],
      "execution_count": 11,
      "outputs": [
        {
          "output_type": "stream",
          "text": [
            "ILoveYou\n",
            "i love you\n"
          ],
          "name": "stdout"
        }
      ]
    },
    {
      "cell_type": "code",
      "metadata": {
        "colab": {
          "base_uri": "https://localhost:8080/"
        },
        "id": "bLJPXiutJrRU",
        "outputId": "e47fe3da-99fc-4bb4-a96c-ba051796e456"
      },
      "source": [
        "a = \"Mustafa\"\n",
        "b=\"Gökhan\"\n",
        "c=\"Türer\"\n",
        "def baba(a,b,c):\n",
        "    print(f\"{a}{b}{c}\"+\" is the king\")\n",
        "baba(a,b,c)"
      ],
      "execution_count": 21,
      "outputs": [
        {
          "output_type": "stream",
          "text": [
            "MustafaGökhanTürer is the king\n"
          ],
          "name": "stdout"
        }
      ]
    },
    {
      "cell_type": "code",
      "metadata": {
        "id": "37Wdd0bEPCKg"
      },
      "source": [
        "def parrot(voltage, state='fuat', action='ceyhan', typed='nörüyon'):\n",
        "    print(\"-- This parrot wouldn't\", action, end=' ')\n",
        "    print(\"if you put\", voltage, \"volts through it.\")\n",
        "    print(\"-- Lovely plumage, the\", typed)\n",
        "    print(\"-- It's\", state, \"!\")\n",
        "\n",
        "    "
      ],
      "execution_count": null,
      "outputs": []
    },
    {
      "cell_type": "code",
      "metadata": {
        "colab": {
          "base_uri": "https://localhost:8080/"
        },
        "id": "WKcMAf7dPJY0",
        "outputId": "d27aff86-cd17-42a5-e400-a1d58a0ae93b"
      },
      "source": [
        "parrot(1000)\n"
      ],
      "execution_count": 24,
      "outputs": [
        {
          "output_type": "stream",
          "text": [
            "-- This parrot wouldn't voom if you put 1000 volts through it.\n",
            "-- Lovely plumage, the Norwegian Blue\n",
            "-- It's a stiff !\n"
          ],
          "name": "stdout"
        }
      ]
    },
    {
      "cell_type": "code",
      "metadata": {
        "colab": {
          "base_uri": "https://localhost:8080/"
        },
        "id": "phT78VJHQQUr",
        "outputId": "c84531a0-0be7-4d95-d512-089e695f1893"
      },
      "source": [
        "parrot(voltage=100000, action=\"voooooooom\")"
      ],
      "execution_count": 25,
      "outputs": [
        {
          "output_type": "stream",
          "text": [
            "-- This parrot wouldn't voooooooom if you put 100000 volts through it.\n",
            "-- Lovely plumage, the Norwegian Blue\n",
            "-- It's a stiff !\n"
          ],
          "name": "stdout"
        }
      ]
    },
    {
      "cell_type": "code",
      "metadata": {
        "colab": {
          "base_uri": "https://localhost:8080/"
        },
        "id": "hlPCv3E6bgnz",
        "outputId": "57bfc4f6-5201-4cd1-b5da-2b80063ec03d"
      },
      "source": [
        "def city(capital, continent='Europe'):\n",
        "    print(capital, 'in', continent)\n",
        "city('Athens') # we don't have to pass any arguments into 'continent'\n",
        "city('Ulaanbaatar', continent='Asia') # we can change the default value by kwargs\n",
        "city('Cape Town', 'Africa') # we can change the default value by positional args."
      ],
      "execution_count": 26,
      "outputs": [
        {
          "output_type": "stream",
          "text": [
            "Athens in Europe\n",
            "Ulaanbaatar in Asia\n",
            "Cape Town in Africa\n"
          ],
          "name": "stdout"
        }
      ]
    },
    {
      "cell_type": "code",
      "metadata": {
        "id": "JC1KA9V9cYkU"
      },
      "source": [
        "def fruiterer(fruit1, fruit2) :\n",
        "    print(\"I want to get\", fruit1, 'and', fruit2)\n",
        "fruiterer('orange', 'banana')"
      ],
      "execution_count": null,
      "outputs": []
    },
    {
      "cell_type": "code",
      "metadata": {
        "id": "AHYi-YiJcg4n"
      },
      "source": [
        "def fruiterer(*fruit) :\n",
        "    print(\"I want to get :\")\n",
        "    for i in fruit :\n",
        "        print('-', 1)\n",
        "fruiterer('orange', 'banana', 'melon', 'ananas')\n",
        "\n"
      ],
      "execution_count": null,
      "outputs": []
    },
    {
      "cell_type": "code",
      "metadata": {
        "id": "tuNM4nhVdKim"
      },
      "source": [
        "def slicer(*nums):\n",
        "    even_list = []\n",
        "    odd_list = []\n",
        "    i\n",
        "    for i in nums:\n",
        "        if nums %2 == 0:\n",
        "            even_list.append(i)\n",
        "        else:\n",
        "            odd_list.append(i)\n",
        "            \n",
        "\n"
      ],
      "execution_count": 29,
      "outputs": []
    },
    {
      "cell_type": "code",
      "metadata": {
        "colab": {
          "base_uri": "https://localhost:8080/",
          "height": 130
        },
        "id": "K2A-x_EWecHX",
        "outputId": "9cb91a5e-1fce-4316-a108-74717eb9c9f5"
      },
      "source": [
        "def slicer(*num):\n",
        "  print(\"evens:\", [i for i in num if%2 == 0])\n",
        "  print(\"odds:\", [i for i in num if%2 != 0])"
      ],
      "execution_count": 36,
      "outputs": [
        {
          "output_type": "error",
          "ename": "SyntaxError",
          "evalue": "ignored",
          "traceback": [
            "\u001b[0;36m  File \u001b[0;32m\"<ipython-input-36-3673c382d3c9>\"\u001b[0;36m, line \u001b[0;32m2\u001b[0m\n\u001b[0;31m    print(\"evens:\", [i for i in num if%2 == 0])\u001b[0m\n\u001b[0m                                      ^\u001b[0m\n\u001b[0;31mSyntaxError\u001b[0m\u001b[0;31m:\u001b[0m invalid syntax\n"
          ]
        }
      ]
    },
    {
      "cell_type": "code",
      "metadata": {
        "colab": {
          "base_uri": "https://localhost:8080/"
        },
        "id": "znQ7qEZmc44v",
        "outputId": "a1cdf6a8-cf36-47fa-cb10-bf1a30019453"
      },
      "source": [
        "def animals(**kwargs):\n",
        "    for key, value in kwargs.items():\n",
        "        print(value, \"are\", key)\n",
        "animals(Carnivores=\"Lions\", Omnivores=\"Bears\", Herbivores=\"Deers\", Nomnivores=\"Human\")"
      ],
      "execution_count": 37,
      "outputs": [
        {
          "output_type": "stream",
          "text": [
            "Lions are Carnivores\n",
            "Bears are Omnivores\n",
            "Deers are Herbivores\n",
            "Human are Nomnivores\n"
          ],
          "name": "stdout"
        }
      ]
    },
    {
      "cell_type": "code",
      "metadata": {
        "id": "ZD2EFEOxh3dq"
      },
      "source": [
        "def organizer(**a):\n",
        "    names=[]\n",
        "    ages=[]\n",
        "    for key, value in a.items():\n",
        "        names.append(key)\n",
        "        ages.append(value)\n",
        "    print(keys)\n",
        "    print(values)"
      ],
      "execution_count": 39,
      "outputs": []
    },
    {
      "cell_type": "code",
      "metadata": {
        "colab": {
          "base_uri": "https://localhost:8080/"
        },
        "id": "9_9WjJZUiviS",
        "outputId": "4b585706-b116-4f89-fbc0-07ad9d1c3f2e"
      },
      "source": [
        "def organizer(**names):\n",
        "    for key, value in names.items():\n",
        "        print(key, \":\", value)\n",
        "organizer(Beth = 26, Oscar = 42, Justin = 18, Frank = 33)"
      ],
      "execution_count": 38,
      "outputs": [
        {
          "output_type": "stream",
          "text": [
            "Beth : 26\n",
            "Oscar : 42\n",
            "Justin : 18\n",
            "Frank : 33\n"
          ],
          "name": "stdout"
        }
      ]
    },
    {
      "cell_type": "code",
      "metadata": {
        "id": "N0YAjmFtloek"
      },
      "source": [
        "def defa(**x) :\n",
        "    for t, z in x.items():\n",
        "        print(t, \"is\", z, \"years old.\")\n",
        "defa(ali = 33, veli = 44, deli = 100, ayşe = 22, nazan = 77)"
      ],
      "execution_count": null,
      "outputs": []
    }
  ]
}