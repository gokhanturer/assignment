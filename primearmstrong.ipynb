{
  "nbformat": 4,
  "nbformat_minor": 0,
  "metadata": {
    "colab": {
      "name": "Untitled0.ipynb",
      "provenance": [],
      "authorship_tag": "ABX9TyMgdhz+g1kkVuwUV5xA6n8G",
      "include_colab_link": true
    },
    "kernelspec": {
      "name": "python3",
      "display_name": "Python 3"
    }
  },
  "cells": [
    {
      "cell_type": "markdown",
      "metadata": {
        "id": "view-in-github",
        "colab_type": "text"
      },
      "source": [
        "<a href=\"https://colab.research.google.com/github/gokhanturer/assignment/blob/main/primearmstrong.ipynb\" target=\"_parent\"><img src=\"https://colab.research.google.com/assets/colab-badge.svg\" alt=\"Open In Colab\"/></a>"
      ]
    },
    {
      "cell_type": "code",
      "metadata": {
        "id": "1raK9dN6lYKq"
      },
      "source": [
        "number=int(input(\"enter a positive number:   \"))\n",
        "n=2\n",
        "check=False\n",
        "while n<number:\n",
        "  if number%n:\n",
        "    check=True\n",
        "  n+=1\n",
        "if check:\n",
        "  print(\"{} is not a prime number\".format(number))\n",
        "else:\n",
        "  print(\"{} is a prime number\".format(number))"
      ],
      "execution_count": null,
      "outputs": []
    },
    {
      "cell_type": "code",
      "metadata": {
        "id": "-OEOU1yyhnoW"
      },
      "source": [
        "number=int(input(\"enter a positive number:   \"))\n",
        "n=2\n",
        "check=False\n",
        "\n",
        "  print(\"{} is not a prime number\".format(number))\n",
        "else:\n",
        "  print(\"{} is a prime number\".format(number))"
      ],
      "execution_count": null,
      "outputs": []
    },
    {
      "cell_type": "code",
      "metadata": {
        "colab": {
          "base_uri": "https://localhost:8080/"
        },
        "id": "7VFf46CGFbDV",
        "outputId": "efcc734b-d8f3-491c-e413-1a2497f9956e"
      },
      "source": [
        "def add(a,b):\n",
        "  print(a + b)\n",
        "\n",
        "add(8,2345)"
      ],
      "execution_count": 3,
      "outputs": [
        {
          "output_type": "stream",
          "text": [
            "2353\n"
          ],
          "name": "stdout"
        }
      ]
    },
    {
      "cell_type": "code",
      "metadata": {
        "colab": {
          "base_uri": "https://localhost:8080/",
          "height": 130
        },
        "id": "MwnIni8fGDRu",
        "outputId": "62e229ec-e70e-4753-dd93-5cec7865e580"
      },
      "source": [
        "def calculator(a,b,c):\n",
        "    if c==“+”:\n",
        "        print(a+b)\n",
        "    elif c==“-”:\n",
        "        print(a-b)\n",
        "    elif c==“*”:\n",
        "        print(a*b)\n",
        "    elif c==“/”:\n",
        "        print(a/b)\n",
        "    else:\n",
        "        print(“Enter valid parameter”) \n"
      ],
      "execution_count": 9,
      "outputs": [
        {
          "output_type": "error",
          "ename": "SyntaxError",
          "evalue": "ignored",
          "traceback": [
            "\u001b[0;36m  File \u001b[0;32m\"<ipython-input-9-32d3e03d4ee3>\"\u001b[0;36m, line \u001b[0;32m2\u001b[0m\n\u001b[0;31m    if c==“+”:\u001b[0m\n\u001b[0m          ^\u001b[0m\n\u001b[0;31mSyntaxError\u001b[0m\u001b[0;31m:\u001b[0m invalid character in identifier\n"
          ]
        }
      ]
    },
    {
      "cell_type": "code",
      "metadata": {
        "id": "cJHHVbqoIJV_"
      },
      "source": [
        "def calculator(x, y, opr):\n",
        "    if opr == \"+\":\n",
        "        return(x + y)\n",
        "    elif opr == \"-\":\n",
        "        return(x - y)\n",
        "    elif opr == \"*\":\n",
        "        return(x * y)\n",
        "    elif opr == \"/\":\n",
        "        return(x / y)\n",
        "    else:\n",
        "        print(\"Enter a valid operator!\")\n",
        "        \n",
        "      "
      ],
      "execution_count": 13,
      "outputs": []
    },
    {
      "cell_type": "code",
      "metadata": {
        "id": "AxAn_eRpasDg"
      },
      "source": [
        "n = int(input(\"Enter a number to check if it is a prime number.\"))\n",
        "count = 0\n",
        "for i in range(1, n+1) :\n",
        "    if n % i == 0 :\n",
        "        count += 1\n",
        "if (n == 0) or (n == 1) or (count >=3) :\n",
        "    print(n, \"is not a prime number.\")\n",
        "else:\n",
        "    print(n, \"is a prime number\")"
      ],
      "execution_count": null,
      "outputs": []
    },
    {
      "cell_type": "code",
      "metadata": {
        "id": "2Yr8IB9CatBg"
      },
      "source": [
        "while True :\n",
        "    number = input(\"enter a positive number.\")\n",
        "    digits = len(number)\n",
        "    summ = 0\n",
        "    if not number.isdigit() :\n",
        "        print(number, \"is invalid entry. enter numberic value!\")\n",
        "    elif int(number) >= 0 :\n",
        "        for i in range(digits) :\n",
        "            summ = summ + int(number[i]) ** digits\n",
        "        if summ == int(number) :\n",
        "            print(number, \"is an Armstrong Number.\")\n",
        "            break\n",
        "        else :\n",
        "            print(number, \"is not an Armstrong Number.\")\n",
        "            break\n",
        "            "
      ],
      "execution_count": null,
      "outputs": []
    }
  ]
}